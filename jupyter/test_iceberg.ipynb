{
 "cells": [
  {
   "cell_type": "code",
   "execution_count": 1,
   "id": "59073650-306b-43a9-86ed-f6d1671f649b",
   "metadata": {},
   "outputs": [
    {
     "name": "stdout",
     "output_type": "stream",
     "text": [
      "DataFrame criado:\n",
      "+---+-------+---+\n",
      "| id|   name|age|\n",
      "+---+-------+---+\n",
      "|  1|  Alice| 25|\n",
      "|  2|    Bob| 30|\n",
      "|  3|Charlie| 35|\n",
      "+---+-------+---+\n",
      "\n",
      "DataFrame salvo no formato Iceberg no MinIO.\n"
     ]
    }
   ],
   "source": [
    "from pyspark.sql import SparkSession\n",
    "\n",
    "# Inicializar a sessão do Spark com configurações para Iceberg e MinIO\n",
    "spark = SparkSession.builder \\\n",
    "    .appName(\"Iceberg Example\") \\\n",
    "    .config(\"spark.sql.extensions\", \"org.apache.iceberg.spark.extensions.IcebergSparkSessionExtensions\") \\\n",
    "    .config(\"spark.sql.catalog.iceberg\", \"org.apache.iceberg.spark.SparkCatalog\") \\\n",
    "    .config(\"spark.jars.packages\", \"org.apache.iceberg:iceberg-spark-runtime-3.5_2.12:1.5.0\") \\\n",
    "    .config(\"spark.sql.catalog.iceberg.type\", \"hive\") \\\n",
    "    .config(\"spark.sql.catalog.iceberg.uri\", \"thrift://hive-metastore:9083\") \\\n",
    "    .config(\"spark.sql.catalog.iceberg.warehouse\", \"s3a://warehouse/externo/table\") \\\n",
    "    .config(\"spark.hadoop.fs.s3a.endpoint\", \"http://minio:9000\") \\\n",
    "    .config(\"spark.hadoop.fs.s3a.access.key\", \"minioadmin\") \\\n",
    "    .config(\"spark.hadoop.fs.s3a.secret.key\", \"minioadmin\") \\\n",
    "    .config(\"spark.hadoop.fs.s3a.path.style.access\", \"true\") \\\n",
    "    .getOrCreate()\n",
    "\n",
    "data = [\n",
    "    (1, \"Alice\", 25),\n",
    "    (2, \"Bob\", 30),\n",
    "    (3, \"Charlie\", 35)\n",
    "]\n",
    "columns = [\"id\", \"name\", \"age\"]\n",
    "\n",
    "df = spark.createDataFrame(data, columns)\n",
    "\n",
    "# Mostrar o DataFrame\n",
    "print(\"DataFrame criado:\")\n",
    "df.show()\n",
    "\n",
    "# Salvar o DataFrame no formato Iceberg\n",
    "df.write.format(\"iceberg\").saveAsTable(\"iceberg.bronze.tb_pessoa\")\n",
    "\n",
    "print(\"DataFrame salvo no formato Iceberg no MinIO.\")"
   ]
  },
  {
   "cell_type": "code",
   "execution_count": 2,
   "id": "8289c178-2ac9-4520-a07f-cad5fa61d3fe",
   "metadata": {},
   "outputs": [
    {
     "name": "stdout",
     "output_type": "stream",
     "text": [
      "+---+-------+---+\n",
      "| id|   name|age|\n",
      "+---+-------+---+\n",
      "|  1|  Alice| 25|\n",
      "|  2|    Bob| 30|\n",
      "|  3|Charlie| 35|\n",
      "+---+-------+---+\n",
      "\n"
     ]
    }
   ],
   "source": [
    "df = spark.sql(\"SELECT * FROM iceberg.bronze.tb_pessoa\")\n",
    "df.show()\n"
   ]
  },
  {
   "cell_type": "code",
   "execution_count": 3,
   "id": "6f49fa12-8e04-42a5-9a90-8064a9b8f3e2",
   "metadata": {},
   "outputs": [
    {
     "name": "stdout",
     "output_type": "stream",
     "text": [
      "+---------+---------+-----------+\n",
      "|namespace|tableName|isTemporary|\n",
      "+---------+---------+-----------+\n",
      "|   bronze|tb_pessoa|      false|\n",
      "+---------+---------+-----------+\n",
      "\n"
     ]
    }
   ],
   "source": [
    "spark.sql(\"\"\"\n",
    "SHOW TABLES IN iceberg.bronze;\n",
    "\"\"\").show()"
   ]
  },
  {
   "cell_type": "code",
   "execution_count": 4,
   "id": "e8d96431-f371-48eb-aee8-3fb569bd8def",
   "metadata": {},
   "outputs": [
    {
     "data": {
      "text/html": [
       "<div>\n",
       "<style scoped>\n",
       "    .dataframe tbody tr th:only-of-type {\n",
       "        vertical-align: middle;\n",
       "    }\n",
       "\n",
       "    .dataframe tbody tr th {\n",
       "        vertical-align: top;\n",
       "    }\n",
       "\n",
       "    .dataframe thead th {\n",
       "        text-align: right;\n",
       "    }\n",
       "</style>\n",
       "<table border=\"1\" class=\"dataframe\">\n",
       "  <thead>\n",
       "    <tr style=\"text-align: right;\">\n",
       "      <th></th>\n",
       "      <th>committed_at</th>\n",
       "      <th>snapshot_id</th>\n",
       "      <th>parent_id</th>\n",
       "      <th>operation</th>\n",
       "      <th>manifest_list</th>\n",
       "      <th>summary</th>\n",
       "    </tr>\n",
       "  </thead>\n",
       "  <tbody>\n",
       "    <tr>\n",
       "      <th>0</th>\n",
       "      <td>2025-03-16 23:57:24.051</td>\n",
       "      <td>5740962067477006763</td>\n",
       "      <td>NaN</td>\n",
       "      <td>append</td>\n",
       "      <td>s3a://warehouse/externo/table/tb_pessoa/metada...</td>\n",
       "      <td>{'spark.app.id': 'local-1742169429655', 'chang...</td>\n",
       "    </tr>\n",
       "  </tbody>\n",
       "</table>\n",
       "</div>"
      ],
      "text/plain": [
       "             committed_at          snapshot_id  parent_id operation  \\\n",
       "0 2025-03-16 23:57:24.051  5740962067477006763        NaN    append   \n",
       "\n",
       "                                       manifest_list  \\\n",
       "0  s3a://warehouse/externo/table/tb_pessoa/metada...   \n",
       "\n",
       "                                             summary  \n",
       "0  {'spark.app.id': 'local-1742169429655', 'chang...  "
      ]
     },
     "execution_count": 4,
     "metadata": {},
     "output_type": "execute_result"
    }
   ],
   "source": [
    "snap = spark.sql(\"\"\"\n",
    "SELECT *\n",
    "FROM iceberg.bronze.tb_pessoa.snapshots\n",
    "ORDER BY committed_at DESC;\n",
    "\"\"\")\n",
    "\n",
    "snap.toPandas()"
   ]
  },
  {
   "cell_type": "code",
   "execution_count": 5,
   "id": "4cf510aa-01c0-408b-bbe8-22af7142b789",
   "metadata": {},
   "outputs": [
    {
     "data": {
      "text/plain": [
       "DataFrame[]"
      ]
     },
     "execution_count": 5,
     "metadata": {},
     "output_type": "execute_result"
    }
   ],
   "source": [
    "spark.sql(\"\"\"\n",
    "DELETE FROM iceberg.bronze.tb_pessoa\n",
    "WHERE id = 2\n",
    "\"\"\")\n"
   ]
  },
  {
   "cell_type": "code",
   "execution_count": 6,
   "id": "c25ae3d7-9cf0-4768-8372-576269e18673",
   "metadata": {},
   "outputs": [
    {
     "data": {
      "text/html": [
       "<div>\n",
       "<style scoped>\n",
       "    .dataframe tbody tr th:only-of-type {\n",
       "        vertical-align: middle;\n",
       "    }\n",
       "\n",
       "    .dataframe tbody tr th {\n",
       "        vertical-align: top;\n",
       "    }\n",
       "\n",
       "    .dataframe thead th {\n",
       "        text-align: right;\n",
       "    }\n",
       "</style>\n",
       "<table border=\"1\" class=\"dataframe\">\n",
       "  <thead>\n",
       "    <tr style=\"text-align: right;\">\n",
       "      <th></th>\n",
       "      <th>committed_at</th>\n",
       "      <th>snapshot_id</th>\n",
       "      <th>parent_id</th>\n",
       "      <th>operation</th>\n",
       "      <th>manifest_list</th>\n",
       "      <th>summary</th>\n",
       "    </tr>\n",
       "  </thead>\n",
       "  <tbody>\n",
       "    <tr>\n",
       "      <th>0</th>\n",
       "      <td>2025-03-16 23:57:28.764</td>\n",
       "      <td>7419262281424501369</td>\n",
       "      <td>5.740962e+18</td>\n",
       "      <td>delete</td>\n",
       "      <td>s3a://warehouse/externo/table/tb_pessoa/metada...</td>\n",
       "      <td>{'spark.app.id': 'local-1742169429655', 'remov...</td>\n",
       "    </tr>\n",
       "    <tr>\n",
       "      <th>1</th>\n",
       "      <td>2025-03-16 23:57:24.051</td>\n",
       "      <td>5740962067477006763</td>\n",
       "      <td>NaN</td>\n",
       "      <td>append</td>\n",
       "      <td>s3a://warehouse/externo/table/tb_pessoa/metada...</td>\n",
       "      <td>{'spark.app.id': 'local-1742169429655', 'chang...</td>\n",
       "    </tr>\n",
       "  </tbody>\n",
       "</table>\n",
       "</div>"
      ],
      "text/plain": [
       "             committed_at          snapshot_id     parent_id operation  \\\n",
       "0 2025-03-16 23:57:28.764  7419262281424501369  5.740962e+18    delete   \n",
       "1 2025-03-16 23:57:24.051  5740962067477006763           NaN    append   \n",
       "\n",
       "                                       manifest_list  \\\n",
       "0  s3a://warehouse/externo/table/tb_pessoa/metada...   \n",
       "1  s3a://warehouse/externo/table/tb_pessoa/metada...   \n",
       "\n",
       "                                             summary  \n",
       "0  {'spark.app.id': 'local-1742169429655', 'remov...  \n",
       "1  {'spark.app.id': 'local-1742169429655', 'chang...  "
      ]
     },
     "execution_count": 6,
     "metadata": {},
     "output_type": "execute_result"
    }
   ],
   "source": [
    "snap = spark.sql(\"\"\"\n",
    "SELECT *\n",
    "FROM iceberg.bronze.tb_pessoa.snapshots\n",
    "ORDER BY committed_at DESC;\n",
    "\"\"\")\n",
    "\n",
    "snap.toPandas()"
   ]
  }
 ],
 "metadata": {
  "kernelspec": {
   "display_name": "Python 3 (ipykernel)",
   "language": "python",
   "name": "python3"
  },
  "language_info": {
   "codemirror_mode": {
    "name": "ipython",
    "version": 3
   },
   "file_extension": ".py",
   "mimetype": "text/x-python",
   "name": "python",
   "nbconvert_exporter": "python",
   "pygments_lexer": "ipython3",
   "version": "3.11.6"
  }
 },
 "nbformat": 4,
 "nbformat_minor": 5
}
